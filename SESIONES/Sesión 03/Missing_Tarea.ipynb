{
 "cells": [
  {
   "cell_type": "markdown",
   "id": "c8987047",
   "metadata": {},
   "source": [
    "# Análizar todo lo correspondiente a valores missing\n",
    "\n",
    "**Revisar el conjuntos de datos**"
   ]
  },
  {
   "cell_type": "code",
   "execution_count": 1,
   "id": "ff4544fc",
   "metadata": {},
   "outputs": [],
   "source": [
    "import pandas as pd"
   ]
  },
  {
   "cell_type": "code",
   "execution_count": 156,
   "id": "12a3661a",
   "metadata": {},
   "outputs": [
    {
     "data": {
      "text/html": [
       "<div>\n",
       "<style scoped>\n",
       "    .dataframe tbody tr th:only-of-type {\n",
       "        vertical-align: middle;\n",
       "    }\n",
       "\n",
       "    .dataframe tbody tr th {\n",
       "        vertical-align: top;\n",
       "    }\n",
       "\n",
       "    .dataframe thead th {\n",
       "        text-align: right;\n",
       "    }\n",
       "</style>\n",
       "<table border=\"1\" class=\"dataframe\">\n",
       "  <thead>\n",
       "    <tr style=\"text-align: right;\">\n",
       "      <th></th>\n",
       "      <th>IdCliente</th>\n",
       "      <th>Genero</th>\n",
       "      <th>Mayor65Age</th>\n",
       "      <th>Socio</th>\n",
       "      <th>Dependientes</th>\n",
       "      <th>MultipleLineas</th>\n",
       "      <th>Internet</th>\n",
       "      <th>TVPago</th>\n",
       "      <th>TerminoContrato</th>\n",
       "      <th>FactElectronica</th>\n",
       "      <th>MetodoPago</th>\n",
       "      <th>CargoMensual</th>\n",
       "      <th>ImporteTotal</th>\n",
       "      <th>pemanencia</th>\n",
       "      <th>ServicioTel</th>\n",
       "      <th>Churn</th>\n",
       "    </tr>\n",
       "  </thead>\n",
       "  <tbody>\n",
       "    <tr>\n",
       "      <th>0</th>\n",
       "      <td>7590-VHVEG</td>\n",
       "      <td>Femenino</td>\n",
       "      <td>0</td>\n",
       "      <td>Si</td>\n",
       "      <td>No</td>\n",
       "      <td>No servicio tel</td>\n",
       "      <td>DSL</td>\n",
       "      <td>No</td>\n",
       "      <td>Mes a mes</td>\n",
       "      <td>Si</td>\n",
       "      <td>Cheque electronico</td>\n",
       "      <td>29.85</td>\n",
       "      <td>29.85</td>\n",
       "      <td>1.0</td>\n",
       "      <td>No</td>\n",
       "      <td>No</td>\n",
       "    </tr>\n",
       "    <tr>\n",
       "      <th>1</th>\n",
       "      <td>5575-GNVDE</td>\n",
       "      <td>Masculino</td>\n",
       "      <td>0</td>\n",
       "      <td>No</td>\n",
       "      <td>No</td>\n",
       "      <td>No</td>\n",
       "      <td>DSL</td>\n",
       "      <td>No</td>\n",
       "      <td>Un año</td>\n",
       "      <td>No</td>\n",
       "      <td>Cheque fisico</td>\n",
       "      <td>NaN</td>\n",
       "      <td>1889.50</td>\n",
       "      <td>34.0</td>\n",
       "      <td>Si</td>\n",
       "      <td>No</td>\n",
       "    </tr>\n",
       "    <tr>\n",
       "      <th>2</th>\n",
       "      <td>3668-QPYBK</td>\n",
       "      <td>Masculino</td>\n",
       "      <td>0</td>\n",
       "      <td>No</td>\n",
       "      <td>No</td>\n",
       "      <td>No</td>\n",
       "      <td>DSL</td>\n",
       "      <td>No</td>\n",
       "      <td>Mes a mes</td>\n",
       "      <td>Si</td>\n",
       "      <td>Cheque fisico</td>\n",
       "      <td>53.85</td>\n",
       "      <td>108.15</td>\n",
       "      <td>2.0</td>\n",
       "      <td>Si</td>\n",
       "      <td>Si</td>\n",
       "    </tr>\n",
       "    <tr>\n",
       "      <th>3</th>\n",
       "      <td>7795-CFOCW</td>\n",
       "      <td>Masculino</td>\n",
       "      <td>0</td>\n",
       "      <td>No</td>\n",
       "      <td>No</td>\n",
       "      <td>No servicio tel</td>\n",
       "      <td>DSL</td>\n",
       "      <td>No</td>\n",
       "      <td>Un año</td>\n",
       "      <td>No</td>\n",
       "      <td>TransfBanca (automatica)</td>\n",
       "      <td>42.30</td>\n",
       "      <td>1840.75</td>\n",
       "      <td>45.0</td>\n",
       "      <td>NaN</td>\n",
       "      <td>No</td>\n",
       "    </tr>\n",
       "    <tr>\n",
       "      <th>4</th>\n",
       "      <td>9237-HQITU</td>\n",
       "      <td>Femenino</td>\n",
       "      <td>0</td>\n",
       "      <td>No</td>\n",
       "      <td>No</td>\n",
       "      <td>No</td>\n",
       "      <td>Fibra Optica</td>\n",
       "      <td>No</td>\n",
       "      <td>Mes a mes</td>\n",
       "      <td>Si</td>\n",
       "      <td>Cheque electronico</td>\n",
       "      <td>70.70</td>\n",
       "      <td>151.65</td>\n",
       "      <td>2.0</td>\n",
       "      <td>Si</td>\n",
       "      <td>Si</td>\n",
       "    </tr>\n",
       "  </tbody>\n",
       "</table>\n",
       "</div>"
      ],
      "text/plain": [
       "    IdCliente     Genero  Mayor65Age Socio Dependientes   MultipleLineas  \\\n",
       "0  7590-VHVEG   Femenino           0    Si           No  No servicio tel   \n",
       "1  5575-GNVDE  Masculino           0    No           No               No   \n",
       "2  3668-QPYBK  Masculino           0    No           No               No   \n",
       "3  7795-CFOCW  Masculino           0    No           No  No servicio tel   \n",
       "4  9237-HQITU   Femenino           0    No           No               No   \n",
       "\n",
       "       Internet TVPago TerminoContrato FactElectronica  \\\n",
       "0           DSL     No       Mes a mes              Si   \n",
       "1           DSL     No          Un año              No   \n",
       "2           DSL     No       Mes a mes              Si   \n",
       "3           DSL     No          Un año              No   \n",
       "4  Fibra Optica     No       Mes a mes              Si   \n",
       "\n",
       "                 MetodoPago  CargoMensual  ImporteTotal  pemanencia  \\\n",
       "0        Cheque electronico         29.85         29.85         1.0   \n",
       "1             Cheque fisico           NaN       1889.50        34.0   \n",
       "2             Cheque fisico         53.85        108.15         2.0   \n",
       "3  TransfBanca (automatica)         42.30       1840.75        45.0   \n",
       "4        Cheque electronico         70.70        151.65         2.0   \n",
       "\n",
       "  ServicioTel Churn  \n",
       "0          No    No  \n",
       "1          Si    No  \n",
       "2          Si    Si  \n",
       "3         NaN    No  \n",
       "4          Si    Si  "
      ]
     },
     "execution_count": 156,
     "metadata": {},
     "output_type": "execute_result"
    }
   ],
   "source": [
    "# cargamos la data\n",
    "import pandas as pd\n",
    "\n",
    "data = pd.read_excel(\"CHURNM.xlsx\")\n",
    "data.head()"
   ]
  },
  {
   "cell_type": "code",
   "execution_count": 51,
   "id": "afaba636",
   "metadata": {},
   "outputs": [
    {
     "data": {
      "text/plain": [
       "'C:\\\\Users\\\\lenovo\\\\Documents\\\\GitHub\\\\Analisis-Multivariado\\\\SESIONES\\\\Sesión 03'"
      ]
     },
     "execution_count": 51,
     "metadata": {},
     "output_type": "execute_result"
    }
   ],
   "source": [
    "#Comprobar el directorio de trabajo \n",
    "import os\n",
    "os.getcwd()"
   ]
  },
  {
   "cell_type": "markdown",
   "id": "7f85e3ba",
   "metadata": {},
   "source": [
    "## Análisis Exploratorio"
   ]
  },
  {
   "cell_type": "code",
   "execution_count": 11,
   "id": "c63d34d4",
   "metadata": {},
   "outputs": [
    {
     "data": {
      "text/plain": [
       "Index(['IdCliente', 'Genero', 'Mayor65Age', 'Socio', 'Dependientes',\n",
       "       'MultipleLineas', 'Internet', 'TVPago', 'TerminoContrato',\n",
       "       'FactElectronica', 'MetodoPago', 'CargoMensual', 'ImporteTotal',\n",
       "       'pemanencia', 'ServicioTel', 'Churn'],\n",
       "      dtype='object')"
      ]
     },
     "execution_count": 11,
     "metadata": {},
     "output_type": "execute_result"
    }
   ],
   "source": [
    "# Vemos el nombre las columnas\n",
    "data.columns"
   ]
  },
  {
   "cell_type": "code",
   "execution_count": 10,
   "id": "bf04daca",
   "metadata": {},
   "outputs": [
    {
     "data": {
      "text/plain": [
       "(7043, 16)"
      ]
     },
     "execution_count": 10,
     "metadata": {},
     "output_type": "execute_result"
    }
   ],
   "source": [
    "# Vemos cuantas filas y columnas contiene nuestro data\n",
    "data.shape"
   ]
  },
  {
   "cell_type": "code",
   "execution_count": 14,
   "id": "d8c69c47",
   "metadata": {},
   "outputs": [
    {
     "data": {
      "text/plain": [
       "IdCliente           object\n",
       "Genero              object\n",
       "Mayor65Age           int64\n",
       "Socio               object\n",
       "Dependientes        object\n",
       "MultipleLineas      object\n",
       "Internet            object\n",
       "TVPago              object\n",
       "TerminoContrato     object\n",
       "FactElectronica     object\n",
       "MetodoPago          object\n",
       "CargoMensual       float64\n",
       "ImporteTotal       float64\n",
       "pemanencia         float64\n",
       "ServicioTel         object\n",
       "Churn               object\n",
       "dtype: object"
      ]
     },
     "execution_count": 14,
     "metadata": {},
     "output_type": "execute_result"
    }
   ],
   "source": [
    "# lista de los tipos de datos para cada columna\n",
    "data.dtypes"
   ]
  },
  {
   "cell_type": "code",
   "execution_count": 12,
   "id": "9b5c15bf",
   "metadata": {},
   "outputs": [
    {
     "data": {
      "text/html": [
       "<div>\n",
       "<style scoped>\n",
       "    .dataframe tbody tr th:only-of-type {\n",
       "        vertical-align: middle;\n",
       "    }\n",
       "\n",
       "    .dataframe tbody tr th {\n",
       "        vertical-align: top;\n",
       "    }\n",
       "\n",
       "    .dataframe thead th {\n",
       "        text-align: right;\n",
       "    }\n",
       "</style>\n",
       "<table border=\"1\" class=\"dataframe\">\n",
       "  <thead>\n",
       "    <tr style=\"text-align: right;\">\n",
       "      <th></th>\n",
       "      <th>Mayor65Age</th>\n",
       "      <th>CargoMensual</th>\n",
       "      <th>ImporteTotal</th>\n",
       "      <th>pemanencia</th>\n",
       "    </tr>\n",
       "  </thead>\n",
       "  <tbody>\n",
       "    <tr>\n",
       "      <th>count</th>\n",
       "      <td>7043.000000</td>\n",
       "      <td>6479.000000</td>\n",
       "      <td>6439.000000</td>\n",
       "      <td>6327.000000</td>\n",
       "    </tr>\n",
       "    <tr>\n",
       "      <th>mean</th>\n",
       "      <td>0.162147</td>\n",
       "      <td>64.735739</td>\n",
       "      <td>2293.121020</td>\n",
       "      <td>32.387387</td>\n",
       "    </tr>\n",
       "    <tr>\n",
       "      <th>std</th>\n",
       "      <td>0.368612</td>\n",
       "      <td>30.079019</td>\n",
       "      <td>2275.377016</td>\n",
       "      <td>24.553224</td>\n",
       "    </tr>\n",
       "    <tr>\n",
       "      <th>min</th>\n",
       "      <td>0.000000</td>\n",
       "      <td>18.250000</td>\n",
       "      <td>18.850000</td>\n",
       "      <td>0.000000</td>\n",
       "    </tr>\n",
       "    <tr>\n",
       "      <th>25%</th>\n",
       "      <td>0.000000</td>\n",
       "      <td>35.450000</td>\n",
       "      <td>402.550000</td>\n",
       "      <td>9.000000</td>\n",
       "    </tr>\n",
       "    <tr>\n",
       "      <th>50%</th>\n",
       "      <td>0.000000</td>\n",
       "      <td>70.350000</td>\n",
       "      <td>1411.350000</td>\n",
       "      <td>29.000000</td>\n",
       "    </tr>\n",
       "    <tr>\n",
       "      <th>75%</th>\n",
       "      <td>0.000000</td>\n",
       "      <td>89.900000</td>\n",
       "      <td>3798.375000</td>\n",
       "      <td>55.000000</td>\n",
       "    </tr>\n",
       "    <tr>\n",
       "      <th>max</th>\n",
       "      <td>1.000000</td>\n",
       "      <td>118.750000</td>\n",
       "      <td>8684.800000</td>\n",
       "      <td>72.000000</td>\n",
       "    </tr>\n",
       "  </tbody>\n",
       "</table>\n",
       "</div>"
      ],
      "text/plain": [
       "        Mayor65Age  CargoMensual  ImporteTotal   pemanencia\n",
       "count  7043.000000   6479.000000   6439.000000  6327.000000\n",
       "mean      0.162147     64.735739   2293.121020    32.387387\n",
       "std       0.368612     30.079019   2275.377016    24.553224\n",
       "min       0.000000     18.250000     18.850000     0.000000\n",
       "25%       0.000000     35.450000    402.550000     9.000000\n",
       "50%       0.000000     70.350000   1411.350000    29.000000\n",
       "75%       0.000000     89.900000   3798.375000    55.000000\n",
       "max       1.000000    118.750000   8684.800000    72.000000"
      ]
     },
     "execution_count": 12,
     "metadata": {},
     "output_type": "execute_result"
    }
   ],
   "source": [
    "# Descripción estadística de los datos numéricos\n",
    "data.describe()"
   ]
  },
  {
   "cell_type": "code",
   "execution_count": 84,
   "id": "35cad985",
   "metadata": {},
   "outputs": [
    {
     "data": {
      "image/png": "[encoded data removed]",
      "text/plain": [
       "<Figure size 500x500 with 4 Axes>"
      ]
     },
     "metadata": {},
     "output_type": "display_data"
    }
   ],
   "source": [
    "# distribuciones de las variables\n",
    "import matplotlib.pyplot as plt\n",
    "data.hist(bins=50, figsize=(5,5))\n",
    "plt.show()"
   ]
  },
  {
   "cell_type": "code",
   "execution_count": 73,
   "id": "16c79adf",
   "metadata": {},
   "outputs": [
    {
     "data": {
      "text/html": [
       "<div>\n",
       "<style scoped>\n",
       "    .dataframe tbody tr th:only-of-type {\n",
       "        vertical-align: middle;\n",
       "    }\n",
       "\n",
       "    .dataframe tbody tr th {\n",
       "        vertical-align: top;\n",
       "    }\n",
       "\n",
       "    .dataframe thead th {\n",
       "        text-align: right;\n",
       "    }\n",
       "</style>\n",
       "<table border=\"1\" class=\"dataframe\">\n",
       "  <thead>\n",
       "    <tr style=\"text-align: right;\">\n",
       "      <th></th>\n",
       "      <th>Socio</th>\n",
       "      <th>Dependientes</th>\n",
       "      <th>MultipleLineas</th>\n",
       "      <th>Internet</th>\n",
       "      <th>TVPago</th>\n",
       "      <th>TerminoContrato</th>\n",
       "      <th>FactElectronica</th>\n",
       "      <th>MetodoPago</th>\n",
       "      <th>ServicioTel</th>\n",
       "      <th>Churn</th>\n",
       "    </tr>\n",
       "  </thead>\n",
       "  <tbody>\n",
       "    <tr>\n",
       "      <th>0</th>\n",
       "      <td>No</td>\n",
       "      <td>No</td>\n",
       "      <td>No</td>\n",
       "      <td>Fibra Optica</td>\n",
       "      <td>No</td>\n",
       "      <td>Mes a mes</td>\n",
       "      <td>Si</td>\n",
       "      <td>Cheque electronico</td>\n",
       "      <td>Si</td>\n",
       "      <td>No</td>\n",
       "    </tr>\n",
       "  </tbody>\n",
       "</table>\n",
       "</div>"
      ],
      "text/plain": [
       "  Socio Dependientes MultipleLineas      Internet TVPago TerminoContrato  \\\n",
       "0    No           No             No  Fibra Optica     No       Mes a mes   \n",
       "\n",
       "  FactElectronica          MetodoPago ServicioTel Churn  \n",
       "0              Si  Cheque electronico          Si    No  "
      ]
     },
     "execution_count": 73,
     "metadata": {},
     "output_type": "execute_result"
    }
   ],
   "source": [
    "#Encontremos la categoría mas frecuente en la variable no numericas\n",
    "data[['Socio','Dependientes', 'MultipleLineas', 'Internet', 'TVPago', 'TerminoContrato', 'FactElectronica', \n",
    "      'MetodoPago','ServicioTel','Churn']].mode()"
   ]
  },
  {
   "cell_type": "code",
   "execution_count": 70,
   "id": "0ef807f1",
   "metadata": {},
   "outputs": [
    {
     "data": {
      "text/plain": [
       "Cheque electronico             2365\n",
       "Cheque fisico                  1612\n",
       "TransfBanca (automatica)       1544\n",
       "TarjetaCredito (automatico)    1522\n",
       "Name: MetodoPago, dtype: int64"
      ]
     },
     "execution_count": 70,
     "metadata": {},
     "output_type": "execute_result"
    }
   ],
   "source": [
    "# vemos los métodos de pago y la cantidad ve valores para cada uno\n",
    "data['MetodoPago'].value_counts()"
   ]
  },
  {
   "cell_type": "code",
   "execution_count": 40,
   "id": "d7bf3331",
   "metadata": {},
   "outputs": [
    {
     "data": {
      "text/html": [
       "<div>\n",
       "<style scoped>\n",
       "    .dataframe tbody tr th:only-of-type {\n",
       "        vertical-align: middle;\n",
       "    }\n",
       "\n",
       "    .dataframe tbody tr th {\n",
       "        vertical-align: top;\n",
       "    }\n",
       "\n",
       "    .dataframe thead th {\n",
       "        text-align: right;\n",
       "    }\n",
       "</style>\n",
       "<table border=\"1\" class=\"dataframe\">\n",
       "  <thead>\n",
       "    <tr style=\"text-align: right;\">\n",
       "      <th>MetodoPago</th>\n",
       "      <th>Cheque electronico</th>\n",
       "      <th>Cheque fisico</th>\n",
       "      <th>TarjetaCredito (automatico)</th>\n",
       "      <th>TransfBanca (automatica)</th>\n",
       "      <th>All</th>\n",
       "    </tr>\n",
       "    <tr>\n",
       "      <th>Genero</th>\n",
       "      <th></th>\n",
       "      <th></th>\n",
       "      <th></th>\n",
       "      <th></th>\n",
       "      <th></th>\n",
       "    </tr>\n",
       "  </thead>\n",
       "  <tbody>\n",
       "    <tr>\n",
       "      <th>Femenino</th>\n",
       "      <td>1170</td>\n",
       "      <td>778</td>\n",
       "      <td>752</td>\n",
       "      <td>788</td>\n",
       "      <td>3488</td>\n",
       "    </tr>\n",
       "    <tr>\n",
       "      <th>Masculino</th>\n",
       "      <td>1195</td>\n",
       "      <td>834</td>\n",
       "      <td>770</td>\n",
       "      <td>756</td>\n",
       "      <td>3555</td>\n",
       "    </tr>\n",
       "    <tr>\n",
       "      <th>All</th>\n",
       "      <td>2365</td>\n",
       "      <td>1612</td>\n",
       "      <td>1522</td>\n",
       "      <td>1544</td>\n",
       "      <td>7043</td>\n",
       "    </tr>\n",
       "  </tbody>\n",
       "</table>\n",
       "</div>"
      ],
      "text/plain": [
       "MetodoPago  Cheque electronico  Cheque fisico  TarjetaCredito (automatico)  \\\n",
       "Genero                                                                       \n",
       "Femenino                  1170            778                          752   \n",
       "Masculino                 1195            834                          770   \n",
       "All                       2365           1612                         1522   \n",
       "\n",
       "MetodoPago  TransfBanca (automatica)   All  \n",
       "Genero                                      \n",
       "Femenino                         788  3488  \n",
       "Masculino                        756  3555  \n",
       "All                             1544  7043  "
      ]
     },
     "execution_count": 40,
     "metadata": {},
     "output_type": "execute_result"
    }
   ],
   "source": [
    "# Tabla de contingencia class / survived\n",
    "pd.crosstab(index=data['Genero'], columns=data['MetodoPago'], margins=True)"
   ]
  },
  {
   "cell_type": "code",
   "execution_count": 62,
   "id": "d8405c84",
   "metadata": {},
   "outputs": [
    {
     "data": {
      "text/html": [
       "<div>\n",
       "<style scoped>\n",
       "    .dataframe tbody tr th:only-of-type {\n",
       "        vertical-align: middle;\n",
       "    }\n",
       "\n",
       "    .dataframe tbody tr th {\n",
       "        vertical-align: top;\n",
       "    }\n",
       "\n",
       "    .dataframe thead th {\n",
       "        text-align: right;\n",
       "    }\n",
       "</style>\n",
       "<table border=\"1\" class=\"dataframe\">\n",
       "  <thead>\n",
       "    <tr style=\"text-align: right;\">\n",
       "      <th></th>\n",
       "      <th>MetodoPago</th>\n",
       "      <th>count</th>\n",
       "      <th>percent</th>\n",
       "      <th>cumulative_count</th>\n",
       "      <th>cumulative_percent</th>\n",
       "    </tr>\n",
       "  </thead>\n",
       "  <tbody>\n",
       "    <tr>\n",
       "      <th>0</th>\n",
       "      <td>Cheque electronico</td>\n",
       "      <td>2365</td>\n",
       "      <td>33.579441</td>\n",
       "      <td>2365</td>\n",
       "      <td>33.579441</td>\n",
       "    </tr>\n",
       "    <tr>\n",
       "      <th>1</th>\n",
       "      <td>Cheque fisico</td>\n",
       "      <td>1612</td>\n",
       "      <td>22.887974</td>\n",
       "      <td>3977</td>\n",
       "      <td>56.467414</td>\n",
       "    </tr>\n",
       "    <tr>\n",
       "      <th>2</th>\n",
       "      <td>TransfBanca (automatica)</td>\n",
       "      <td>1544</td>\n",
       "      <td>21.922476</td>\n",
       "      <td>5521</td>\n",
       "      <td>78.389891</td>\n",
       "    </tr>\n",
       "    <tr>\n",
       "      <th>3</th>\n",
       "      <td>TarjetaCredito (automatico)</td>\n",
       "      <td>1522</td>\n",
       "      <td>21.610109</td>\n",
       "      <td>7043</td>\n",
       "      <td>100.000000</td>\n",
       "    </tr>\n",
       "  </tbody>\n",
       "</table>\n",
       "</div>"
      ],
      "text/plain": [
       "                    MetodoPago  count    percent  cumulative_count  \\\n",
       "0           Cheque electronico   2365  33.579441              2365   \n",
       "1                Cheque fisico   1612  22.887974              3977   \n",
       "2     TransfBanca (automatica)   1544  21.922476              5521   \n",
       "3  TarjetaCredito (automatico)   1522  21.610109              7043   \n",
       "\n",
       "   cumulative_percent  \n",
       "0           33.579441  \n",
       "1           56.467414  \n",
       "2           78.389891  \n",
       "3          100.000000  "
      ]
     },
     "execution_count": 62,
     "metadata": {},
     "output_type": "execute_result"
    }
   ],
   "source": [
    "# Tabla de fracuencia de la variable \"MetodoPago\"\n",
    "data.stb.freq(['MetodoPago'])"
   ]
  },
  {
   "cell_type": "markdown",
   "id": "ccccca1b",
   "metadata": {},
   "source": [
    "## VERIFICACIÓN DE VALORES MISSING"
   ]
  },
  {
   "cell_type": "markdown",
   "id": "86062715",
   "metadata": {},
   "source": [
    "**Vamos a tratar de identificar los valores que faltan de 5 formas distintas:**\n",
    "\n",
    "- Con el método missing.\n",
    "- Con la función isnull de pandas\n",
    "- Con el método info de pandas\n",
    "- Con un gráfico de barras\n",
    "- Con un mapa de calor seaborn"
   ]
  },
  {
   "cell_type": "code",
   "execution_count": 59,
   "id": "107f59b9",
   "metadata": {},
   "outputs": [
    {
     "data": {
      "text/html": [
       "<div>\n",
       "<style scoped>\n",
       "    .dataframe tbody tr th:only-of-type {\n",
       "        vertical-align: middle;\n",
       "    }\n",
       "\n",
       "    .dataframe tbody tr th {\n",
       "        vertical-align: top;\n",
       "    }\n",
       "\n",
       "    .dataframe thead th {\n",
       "        text-align: right;\n",
       "    }\n",
       "</style>\n",
       "<table border=\"1\" class=\"dataframe\">\n",
       "  <thead>\n",
       "    <tr style=\"text-align: right;\">\n",
       "      <th></th>\n",
       "      <th>missing</th>\n",
       "      <th>total</th>\n",
       "      <th>percent</th>\n",
       "    </tr>\n",
       "  </thead>\n",
       "  <tbody>\n",
       "    <tr>\n",
       "      <th>ServicioTel</th>\n",
       "      <td>724</td>\n",
       "      <td>7043</td>\n",
       "      <td>10.279710</td>\n",
       "    </tr>\n",
       "    <tr>\n",
       "      <th>pemanencia</th>\n",
       "      <td>716</td>\n",
       "      <td>7043</td>\n",
       "      <td>10.166122</td>\n",
       "    </tr>\n",
       "    <tr>\n",
       "      <th>ImporteTotal</th>\n",
       "      <td>604</td>\n",
       "      <td>7043</td>\n",
       "      <td>8.575891</td>\n",
       "    </tr>\n",
       "    <tr>\n",
       "      <th>CargoMensual</th>\n",
       "      <td>564</td>\n",
       "      <td>7043</td>\n",
       "      <td>8.007951</td>\n",
       "    </tr>\n",
       "    <tr>\n",
       "      <th>IdCliente</th>\n",
       "      <td>0</td>\n",
       "      <td>7043</td>\n",
       "      <td>0.000000</td>\n",
       "    </tr>\n",
       "    <tr>\n",
       "      <th>Genero</th>\n",
       "      <td>0</td>\n",
       "      <td>7043</td>\n",
       "      <td>0.000000</td>\n",
       "    </tr>\n",
       "    <tr>\n",
       "      <th>Mayor65Age</th>\n",
       "      <td>0</td>\n",
       "      <td>7043</td>\n",
       "      <td>0.000000</td>\n",
       "    </tr>\n",
       "    <tr>\n",
       "      <th>Socio</th>\n",
       "      <td>0</td>\n",
       "      <td>7043</td>\n",
       "      <td>0.000000</td>\n",
       "    </tr>\n",
       "    <tr>\n",
       "      <th>Dependientes</th>\n",
       "      <td>0</td>\n",
       "      <td>7043</td>\n",
       "      <td>0.000000</td>\n",
       "    </tr>\n",
       "    <tr>\n",
       "      <th>MultipleLineas</th>\n",
       "      <td>0</td>\n",
       "      <td>7043</td>\n",
       "      <td>0.000000</td>\n",
       "    </tr>\n",
       "    <tr>\n",
       "      <th>Internet</th>\n",
       "      <td>0</td>\n",
       "      <td>7043</td>\n",
       "      <td>0.000000</td>\n",
       "    </tr>\n",
       "    <tr>\n",
       "      <th>TVPago</th>\n",
       "      <td>0</td>\n",
       "      <td>7043</td>\n",
       "      <td>0.000000</td>\n",
       "    </tr>\n",
       "    <tr>\n",
       "      <th>TerminoContrato</th>\n",
       "      <td>0</td>\n",
       "      <td>7043</td>\n",
       "      <td>0.000000</td>\n",
       "    </tr>\n",
       "    <tr>\n",
       "      <th>FactElectronica</th>\n",
       "      <td>0</td>\n",
       "      <td>7043</td>\n",
       "      <td>0.000000</td>\n",
       "    </tr>\n",
       "    <tr>\n",
       "      <th>MetodoPago</th>\n",
       "      <td>0</td>\n",
       "      <td>7043</td>\n",
       "      <td>0.000000</td>\n",
       "    </tr>\n",
       "    <tr>\n",
       "      <th>Churn</th>\n",
       "      <td>0</td>\n",
       "      <td>7043</td>\n",
       "      <td>0.000000</td>\n",
       "    </tr>\n",
       "  </tbody>\n",
       "</table>\n",
       "</div>"
      ],
      "text/plain": [
       "                 missing  total    percent\n",
       "ServicioTel          724   7043  10.279710\n",
       "pemanencia           716   7043  10.166122\n",
       "ImporteTotal         604   7043   8.575891\n",
       "CargoMensual         564   7043   8.007951\n",
       "IdCliente              0   7043   0.000000\n",
       "Genero                 0   7043   0.000000\n",
       "Mayor65Age             0   7043   0.000000\n",
       "Socio                  0   7043   0.000000\n",
       "Dependientes           0   7043   0.000000\n",
       "MultipleLineas         0   7043   0.000000\n",
       "Internet               0   7043   0.000000\n",
       "TVPago                 0   7043   0.000000\n",
       "TerminoContrato        0   7043   0.000000\n",
       "FactElectronica        0   7043   0.000000\n",
       "MetodoPago             0   7043   0.000000\n",
       "Churn                  0   7043   0.000000"
      ]
     },
     "execution_count": 59,
     "metadata": {},
     "output_type": "execute_result"
    }
   ],
   "source": [
    "# Usando método missing\n",
    "data.stb.missing()"
   ]
  },
  {
   "cell_type": "code",
   "execution_count": 66,
   "id": "81276316",
   "metadata": {},
   "outputs": [
    {
     "data": {
      "text/plain": [
       "IdCliente            0\n",
       "Genero               0\n",
       "Mayor65Age           0\n",
       "Socio                0\n",
       "Dependientes         0\n",
       "MultipleLineas       0\n",
       "Internet             0\n",
       "TVPago               0\n",
       "TerminoContrato      0\n",
       "FactElectronica      0\n",
       "MetodoPago           0\n",
       "CargoMensual       564\n",
       "ImporteTotal       604\n",
       "pemanencia         716\n",
       "ServicioTel        724\n",
       "Churn                0\n",
       "dtype: int64"
      ]
     },
     "execution_count": 66,
     "metadata": {},
     "output_type": "execute_result"
    }
   ],
   "source": [
    "# suma de valores perdidos\n",
    "data.isnull().sum()"
   ]
  },
  {
   "cell_type": "code",
   "execution_count": 52,
   "id": "7940af49",
   "metadata": {},
   "outputs": [
    {
     "name": "stdout",
     "output_type": "stream",
     "text": [
      "<class 'pandas.core.frame.DataFrame'>\n",
      "RangeIndex: 7043 entries, 0 to 7042\n",
      "Data columns (total 16 columns):\n",
      " #   Column           Non-Null Count  Dtype  \n",
      "---  ------           --------------  -----  \n",
      " 0   IdCliente        7043 non-null   object \n",
      " 1   Genero           7043 non-null   object \n",
      " 2   Mayor65Age       7043 non-null   int64  \n",
      " 3   Socio            7043 non-null   object \n",
      " 4   Dependientes     7043 non-null   object \n",
      " 5   MultipleLineas   7043 non-null   object \n",
      " 6   Internet         7043 non-null   object \n",
      " 7   TVPago           7043 non-null   object \n",
      " 8   TerminoContrato  7043 non-null   object \n",
      " 9   FactElectronica  7043 non-null   object \n",
      " 10  MetodoPago       7043 non-null   object \n",
      " 11  CargoMensual     6479 non-null   float64\n",
      " 12  ImporteTotal     6439 non-null   float64\n",
      " 13  pemanencia       6327 non-null   float64\n",
      " 14  ServicioTel      6319 non-null   object \n",
      " 15  Churn            7043 non-null   object \n",
      "dtypes: float64(3), int64(1), object(12)\n",
      "memory usage: 880.5+ KB\n"
     ]
    }
   ],
   "source": [
    "# Visualizamos la información de DataFrame\n",
    "data.info()"
   ]
  },
  {
   "cell_type": "code",
   "execution_count": 44,
   "id": "03f43c46",
   "metadata": {},
   "outputs": [
    {
     "data": {
      "image/png": "[encoded data removed]",
      "text/plain": [
       "<Figure size 2500x1000 with 3 Axes>"
      ]
     },
     "metadata": {},
     "output_type": "display_data"
    }
   ],
   "source": [
    "# Gráfico de barras\n",
    "import missingno as msno\n",
    "msno.bar(data.sample(1000));"
   ]
  },
  {
   "cell_type": "code",
   "execution_count": 45,
   "id": "c3600d87",
   "metadata": {},
   "outputs": [
    {
     "data": {
      "image/png": "[encoded data removed]",
      "text/plain": [
       "<Figure size 640x480 with 1 Axes>"
      ]
     },
     "metadata": {},
     "output_type": "display_data"
    }
   ],
   "source": [
    "# Con un mapa de calor seaborn\n",
    "sns.heatmap(data.isnull(), cbar=False);"
   ]
  },
  {
   "cell_type": "markdown",
   "id": "b5244f21",
   "metadata": {},
   "source": [
    "## Tratamiento de missing - Imputación"
   ]
  },
  {
   "cell_type": "markdown",
   "id": "97cb35a2",
   "metadata": {},
   "source": [
    "###  Eliminar valores perdidos"
   ]
  },
  {
   "cell_type": "code",
   "execution_count": 136,
   "id": "707cf556",
   "metadata": {},
   "outputs": [],
   "source": [
    "imput_drop = data.dropna()"
   ]
  },
  {
   "cell_type": "code",
   "execution_count": 137,
   "id": "1850d37b",
   "metadata": {},
   "outputs": [
    {
     "name": "stdout",
     "output_type": "stream",
     "text": [
      "(4787, 16)\n"
     ]
    },
    {
     "data": {
      "text/html": [
       "<div>\n",
       "<style scoped>\n",
       "    .dataframe tbody tr th:only-of-type {\n",
       "        vertical-align: middle;\n",
       "    }\n",
       "\n",
       "    .dataframe tbody tr th {\n",
       "        vertical-align: top;\n",
       "    }\n",
       "\n",
       "    .dataframe thead th {\n",
       "        text-align: right;\n",
       "    }\n",
       "</style>\n",
       "<table border=\"1\" class=\"dataframe\">\n",
       "  <thead>\n",
       "    <tr style=\"text-align: right;\">\n",
       "      <th></th>\n",
       "      <th>IdCliente</th>\n",
       "      <th>Genero</th>\n",
       "      <th>Mayor65Age</th>\n",
       "      <th>Socio</th>\n",
       "      <th>Dependientes</th>\n",
       "      <th>MultipleLineas</th>\n",
       "      <th>Internet</th>\n",
       "      <th>TVPago</th>\n",
       "      <th>TerminoContrato</th>\n",
       "      <th>FactElectronica</th>\n",
       "      <th>MetodoPago</th>\n",
       "      <th>CargoMensual</th>\n",
       "      <th>ImporteTotal</th>\n",
       "      <th>pemanencia</th>\n",
       "      <th>ServicioTel</th>\n",
       "      <th>Churn</th>\n",
       "    </tr>\n",
       "  </thead>\n",
       "  <tbody>\n",
       "    <tr>\n",
       "      <th>7034</th>\n",
       "      <td>0639-TSIQW</td>\n",
       "      <td>Femenino</td>\n",
       "      <td>0</td>\n",
       "      <td>No</td>\n",
       "      <td>No</td>\n",
       "      <td>Si</td>\n",
       "      <td>Fibra Optica</td>\n",
       "      <td>Si</td>\n",
       "      <td>Mes a mes</td>\n",
       "      <td>Si</td>\n",
       "      <td>TarjetaCredito (automatico)</td>\n",
       "      <td>102.95</td>\n",
       "      <td>6886.25</td>\n",
       "      <td>67.0</td>\n",
       "      <td>Si</td>\n",
       "      <td>Si</td>\n",
       "    </tr>\n",
       "    <tr>\n",
       "      <th>7035</th>\n",
       "      <td>8456-QDAVC</td>\n",
       "      <td>Masculino</td>\n",
       "      <td>0</td>\n",
       "      <td>No</td>\n",
       "      <td>No</td>\n",
       "      <td>No</td>\n",
       "      <td>Fibra Optica</td>\n",
       "      <td>Si</td>\n",
       "      <td>Mes a mes</td>\n",
       "      <td>Si</td>\n",
       "      <td>TransfBanca (automatica)</td>\n",
       "      <td>78.70</td>\n",
       "      <td>1495.10</td>\n",
       "      <td>19.0</td>\n",
       "      <td>Si</td>\n",
       "      <td>No</td>\n",
       "    </tr>\n",
       "    <tr>\n",
       "      <th>7038</th>\n",
       "      <td>6840-RESVB</td>\n",
       "      <td>Masculino</td>\n",
       "      <td>0</td>\n",
       "      <td>Si</td>\n",
       "      <td>Si</td>\n",
       "      <td>Si</td>\n",
       "      <td>DSL</td>\n",
       "      <td>Si</td>\n",
       "      <td>Un año</td>\n",
       "      <td>Si</td>\n",
       "      <td>Cheque fisico</td>\n",
       "      <td>84.80</td>\n",
       "      <td>1990.50</td>\n",
       "      <td>24.0</td>\n",
       "      <td>Si</td>\n",
       "      <td>No</td>\n",
       "    </tr>\n",
       "    <tr>\n",
       "      <th>7040</th>\n",
       "      <td>4801-JZAZL</td>\n",
       "      <td>Femenino</td>\n",
       "      <td>0</td>\n",
       "      <td>Si</td>\n",
       "      <td>Si</td>\n",
       "      <td>No servicio tel</td>\n",
       "      <td>DSL</td>\n",
       "      <td>No</td>\n",
       "      <td>Mes a mes</td>\n",
       "      <td>Si</td>\n",
       "      <td>Cheque electronico</td>\n",
       "      <td>29.60</td>\n",
       "      <td>346.45</td>\n",
       "      <td>11.0</td>\n",
       "      <td>No</td>\n",
       "      <td>No</td>\n",
       "    </tr>\n",
       "    <tr>\n",
       "      <th>7042</th>\n",
       "      <td>3186-AJIEK</td>\n",
       "      <td>Masculino</td>\n",
       "      <td>0</td>\n",
       "      <td>No</td>\n",
       "      <td>No</td>\n",
       "      <td>No</td>\n",
       "      <td>Fibra Optica</td>\n",
       "      <td>Si</td>\n",
       "      <td>Dos años</td>\n",
       "      <td>Si</td>\n",
       "      <td>TransfBanca (automatica)</td>\n",
       "      <td>105.65</td>\n",
       "      <td>6844.50</td>\n",
       "      <td>66.0</td>\n",
       "      <td>Si</td>\n",
       "      <td>No</td>\n",
       "    </tr>\n",
       "  </tbody>\n",
       "</table>\n",
       "</div>"
      ],
      "text/plain": [
       "       IdCliente     Genero  Mayor65Age Socio Dependientes   MultipleLineas  \\\n",
       "7034  0639-TSIQW   Femenino           0    No           No               Si   \n",
       "7035  8456-QDAVC  Masculino           0    No           No               No   \n",
       "7038  6840-RESVB  Masculino           0    Si           Si               Si   \n",
       "7040  4801-JZAZL   Femenino           0    Si           Si  No servicio tel   \n",
       "7042  3186-AJIEK  Masculino           0    No           No               No   \n",
       "\n",
       "          Internet TVPago TerminoContrato FactElectronica  \\\n",
       "7034  Fibra Optica     Si       Mes a mes              Si   \n",
       "7035  Fibra Optica     Si       Mes a mes              Si   \n",
       "7038           DSL     Si          Un año              Si   \n",
       "7040           DSL     No       Mes a mes              Si   \n",
       "7042  Fibra Optica     Si        Dos años              Si   \n",
       "\n",
       "                       MetodoPago  CargoMensual  ImporteTotal  pemanencia  \\\n",
       "7034  TarjetaCredito (automatico)        102.95       6886.25        67.0   \n",
       "7035     TransfBanca (automatica)         78.70       1495.10        19.0   \n",
       "7038                Cheque fisico         84.80       1990.50        24.0   \n",
       "7040           Cheque electronico         29.60        346.45        11.0   \n",
       "7042     TransfBanca (automatica)        105.65       6844.50        66.0   \n",
       "\n",
       "     ServicioTel Churn  \n",
       "7034          Si    Si  \n",
       "7035          Si    No  \n",
       "7038          Si    No  \n",
       "7040          No    No  \n",
       "7042          Si    No  "
      ]
     },
     "execution_count": 137,
     "metadata": {},
     "output_type": "execute_result"
    }
   ],
   "source": [
    "print(imput_drop.shape)\n",
    "imput_drop.tail()"
   ]
  },
  {
   "cell_type": "markdown",
   "id": "96b5f220",
   "metadata": {},
   "source": [
    "### Medidas de Tendencia Central"
   ]
  },
  {
   "cell_type": "code",
   "execution_count": 120,
   "id": "e1145ccc",
   "metadata": {},
   "outputs": [],
   "source": [
    "imput_clasico = data.copy()"
   ]
  },
  {
   "cell_type": "code",
   "execution_count": 105,
   "id": "7ac54c07",
   "metadata": {},
   "outputs": [
    {
     "name": "stdout",
     "output_type": "stream",
     "text": [
      "Numericas\n",
      " Index(['Mayor65Age', 'CargoMensual', 'ImporteTotal', 'pemanencia'], dtype='object')\n",
      "Cadenas\n",
      " Index(['IdCliente', 'Genero', 'Socio', 'Dependientes', 'MultipleLineas',\n",
      "       'Internet', 'TVPago', 'TerminoContrato', 'FactElectronica',\n",
      "       'MetodoPago', 'ServicioTel', 'Churn'],\n",
      "      dtype='object')\n"
     ]
    }
   ],
   "source": [
    "numerica = imput_clasico.select_dtypes(include=[\"number\"]) #Filtramos las columnas numericas\n",
    "print(\"Numericas\\n\",numerica.columns)\n",
    "\n",
    "cadena = imput_clasico.select_dtypes(include=[\"object\"]) # Filtramos las columnas no numericas\n",
    "print(\"Cadenas\\n\",cadena.columns)"
   ]
  },
  {
   "cell_type": "code",
   "execution_count": null,
   "id": "b4210c2d",
   "metadata": {},
   "outputs": [],
   "source": []
  },
  {
   "cell_type": "markdown",
   "id": "e2569825",
   "metadata": {},
   "source": [
    "### K - Vecinos más Cercanos (KNN)\n",
    "\n",
    "**pasos**\n",
    "- Calcular la distancia\n",
    "- Encontrar sus vecinos más cercanos\n",
    "- Votar por las etiquetas"
   ]
  },
  {
   "cell_type": "code",
   "execution_count": 134,
   "id": "6d3b5d10",
   "metadata": {},
   "outputs": [
    {
     "name": "stderr",
     "output_type": "stream",
     "text": [
      "ERROR: Invalid requirement: '#missingpy'\n"
     ]
    }
   ],
   "source": [
    "!pip install sklearn #missingpy"
   ]
  },
  {
   "cell_type": "code",
   "execution_count": 140,
   "id": "abe246b9",
   "metadata": {},
   "outputs": [],
   "source": [
    "# missingpy import KNNImputer\n",
    "from sklearn.impute import SimpleImputer"
   ]
  },
  {
   "cell_type": "code",
   "execution_count": null,
   "id": "ea795a2d",
   "metadata": {},
   "outputs": [],
   "source": []
  },
  {
   "cell_type": "code",
   "execution_count": null,
   "id": "657f9558",
   "metadata": {},
   "outputs": [],
   "source": []
  },
  {
   "cell_type": "code",
   "execution_count": null,
   "id": "523a8c52",
   "metadata": {},
   "outputs": [],
   "source": []
  },
  {
   "cell_type": "code",
   "execution_count": null,
   "id": "8fd274ee",
   "metadata": {},
   "outputs": [],
   "source": []
  },
  {
   "cell_type": "code",
   "execution_count": null,
   "id": "9a8db251",
   "metadata": {},
   "outputs": [],
   "source": []
  },
  {
   "cell_type": "code",
   "execution_count": null,
   "id": "49763463",
   "metadata": {},
   "outputs": [],
   "source": []
  }
 ],
 "metadata": {
  "kernelspec": {
   "display_name": "Python 3 (ipykernel)",
   "language": "python",
   "name": "python3"
  },
  "language_info": {
   "codemirror_mode": {
    "name": "ipython",
    "version": 3
   },
   "file_extension": ".py",
   "mimetype": "text/x-python",
   "name": "python",
   "nbconvert_exporter": "python",
   "pygments_lexer": "ipython3",
   "version": "3.11.2"
  }
 },
 "nbformat": 4,
 "nbformat_minor": 5
}
